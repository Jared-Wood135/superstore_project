{
 "cells": [
  {
   "cell_type": "markdown",
   "id": "067c6c6b",
   "metadata": {},
   "source": [
    "<div style='background-color: orange'>\n",
    "<a id=\"TableOfContents\"></a>\n",
    "    <h1 style='text-align: center'>\n",
    "        <b><i>\n",
    "            TABLE OF CONTENTS:\n",
    "        </i></b></h1>\n",
    "<li><a href='#imports'>Imports</a></li>\n",
    "<li><a href=\"#acquire\">Acquire</a></li>\n",
    "<li><a href='#prepare'>Prepare</a></li>\n",
    "<li><a href=\"#wrangle\">Wrangle</a></li>\n",
    "<li><a href='#misc'>Miscellaneous</a></li>"
   ]
  },
  {
   "cell_type": "markdown",
   "id": "793b55d6",
   "metadata": {},
   "source": [
    "<div style='background-color: orange'>\n",
    "<a id=\"imports\"></a>\n",
    "    <h1 style='text-align: center'>\n",
    "        <b><i>\n",
    "            Imports\n",
    "        </i></b></h1>\n",
    "<li><a href='#TableOfContents'>Table of Contents</a></li>"
   ]
  },
  {
   "cell_type": "code",
   "execution_count": 1,
   "id": "beb5f3e4",
   "metadata": {},
   "outputs": [],
   "source": [
    "# Vectorization and tables\n",
    "import numpy as np\n",
    "import pandas as pd\n",
    "\n",
    "# Visualization\n",
    "import matplotlib.pyplot as plt\n",
    "import seaborn as sns\n",
    "\n",
    "# Stats\n",
    "from scipy import stats\n",
    "\n",
    "# .py files\n",
    "import env\n",
    "import wrangle as w"
   ]
  },
  {
   "cell_type": "markdown",
   "id": "84cd970a",
   "metadata": {},
   "source": [
    "<div style='background-color: orange'>\n",
    "<a id=\"acquire\"></a>\n",
    "    <h1 style='text-align: center'>\n",
    "        <b><i>\n",
    "            Acquire\n",
    "        </i></b></h1>\n",
    "<li><a href='#TableOfContents'>Table of Contents</a></li>"
   ]
  },
  {
   "cell_type": "markdown",
   "id": "9dbe69c7",
   "metadata": {},
   "source": [
    "Acquire everything from the vanilla superstore database via sql query\n",
    "\n",
    "- Superstore Vanilla Shape:\n",
    "    - Rows: 1734\n",
    "    - Columns: 22"
   ]
  },
  {
   "cell_type": "code",
   "execution_count": 2,
   "id": "d0df65b5",
   "metadata": {},
   "outputs": [],
   "source": [
    "# Define the SQL query\n",
    "query = '''\n",
    "    SELECT \n",
    "        *\n",
    "    FROM\n",
    "        orders\n",
    "        LEFT JOIN categories USING(`Category ID`)\n",
    "        LEFT JOIN customers USING(`Customer ID`)\n",
    "        LEFT JOIN products USING(`Product ID`)\n",
    "        LEFT JOIN regions USING(`Region ID`)\n",
    "    '''"
   ]
  },
  {
   "cell_type": "code",
   "execution_count": 3,
   "id": "d79143d3",
   "metadata": {},
   "outputs": [],
   "source": [
    "# Create the SQL connection\n",
    "url = env.get_db_url('superstore_db')"
   ]
  },
  {
   "cell_type": "code",
   "execution_count": 4,
   "id": "95c797b7",
   "metadata": {},
   "outputs": [
    {
     "data": {
      "text/plain": [
       "(1734, 22)"
      ]
     },
     "execution_count": 4,
     "metadata": {},
     "output_type": "execute_result"
    }
   ],
   "source": [
    "# Obtain the dataframe\n",
    "superstore = pd.read_sql(query, url)\n",
    "superstore.shape"
   ]
  },
  {
   "cell_type": "code",
   "execution_count": 5,
   "id": "40e07dd2",
   "metadata": {},
   "outputs": [
    {
     "data": {
      "text/plain": [
       "(1734, 22)"
      ]
     },
     "execution_count": 5,
     "metadata": {},
     "output_type": "execute_result"
    }
   ],
   "source": [
    "# Test .py file functionality\n",
    "acquire_superstore = w.acquire_superstore()\n",
    "acquire_superstore.shape"
   ]
  },
  {
   "cell_type": "markdown",
   "id": "3fc72510",
   "metadata": {},
   "source": [
    "<div style='background-color: orange'>\n",
    "<a id=\"prepare\"></a>\n",
    "    <h1 style='text-align: center'>\n",
    "        <b><i>\n",
    "            Prepare\n",
    "        </i></b></h1>\n",
    "<li><a href='#TableOfContents'>Table of Contents</a></li>\n",
    "<li><a href='#prepareinitial'>Initial</a></li>\n",
    "<li><a href='#preparefix'>Things To Fix</a></li>\n",
    "<li><a href='#preparedrop'>Drop Columns</a></li>\n",
    "<li><a href='#preparefixcol'>Fix Columns</a></li>\n",
    "<li><a href='#preparepy'>'.py' File Testing</a></li>"
   ]
  },
  {
   "cell_type": "markdown",
   "id": "27ddf4ba",
   "metadata": {},
   "source": [
    "<a id='prepareinitial'></a>\n",
    "<h3><b><i>\n",
    "    Initial\n",
    "</i></b></h3>\n",
    "<li><a href='#prepare'>Prepare Top</a></li>"
   ]
  },
  {
   "cell_type": "code",
   "execution_count": 6,
   "id": "38a01725",
   "metadata": {},
   "outputs": [
    {
     "data": {
      "text/plain": [
       "Region ID        0\n",
       "Product ID       0\n",
       "Customer ID      0\n",
       "Category ID      0\n",
       "Order ID         0\n",
       "Order Date       0\n",
       "Ship Date        0\n",
       "Ship Mode        0\n",
       "Segment          0\n",
       "Country          0\n",
       "City             0\n",
       "State            0\n",
       "Postal Code      0\n",
       "Sales            0\n",
       "Quantity         0\n",
       "Discount         0\n",
       "Profit           0\n",
       "Category         0\n",
       "Sub-Category     0\n",
       "Customer Name    0\n",
       "Product Name     0\n",
       "Region Name      0\n",
       "dtype: int64"
      ]
     },
     "execution_count": 6,
     "metadata": {},
     "output_type": "execute_result"
    }
   ],
   "source": [
    "# Check for null values\n",
    "superstore.isna().sum()"
   ]
  },
  {
   "cell_type": "code",
   "execution_count": 7,
   "id": "ef79462a",
   "metadata": {},
   "outputs": [
    {
     "data": {
      "text/plain": [
       "Region ID          int64\n",
       "Product ID        object\n",
       "Customer ID       object\n",
       "Category ID        int64\n",
       "Order ID          object\n",
       "Order Date        object\n",
       "Ship Date         object\n",
       "Ship Mode         object\n",
       "Segment           object\n",
       "Country           object\n",
       "City              object\n",
       "State             object\n",
       "Postal Code      float64\n",
       "Sales            float64\n",
       "Quantity         float64\n",
       "Discount         float64\n",
       "Profit           float64\n",
       "Category          object\n",
       "Sub-Category      object\n",
       "Customer Name     object\n",
       "Product Name      object\n",
       "Region Name       object\n",
       "dtype: object"
      ]
     },
     "execution_count": 7,
     "metadata": {},
     "output_type": "execute_result"
    }
   ],
   "source": [
    "# Check dtypes\n",
    "superstore.dtypes"
   ]
  },
  {
   "cell_type": "markdown",
   "id": "9677ef2b",
   "metadata": {},
   "source": [
    "---"
   ]
  },
  {
   "cell_type": "markdown",
   "id": "93f81862",
   "metadata": {},
   "source": [
    "<a id='preparefix'></a>\n",
    "<h3><b><i>\n",
    "    Things To Fix\n",
    "</i></b></h3>\n",
    "<li><a href='#prepare'>Prepare Top</a></li>\n",
    "\n",
    "- Null Values\n",
    "    - None\n",
    "- Drop Columns\n",
    "    - Region ID\n",
    "        - ID unnecessary\n",
    "    - Product ID\n",
    "        - ID unnecessary\n",
    "    - Customer ID\n",
    "        - ID unnecessary\n",
    "    - Category ID\n",
    "        - ID unnecessary\n",
    "- Fix Columns\n",
    "    - Order Date\n",
    "        - Object ==> datetime\n",
    "    - Ship Date\n",
    "        - Object ==> datetime\n",
    "    - COLUMN NAMES\n",
    "        - ALL LOWERCASE\n",
    "        - ' ' WITH '_'\n",
    "        - '-' WITH '_'"
   ]
  },
  {
   "cell_type": "markdown",
   "id": "c7c309de",
   "metadata": {},
   "source": [
    "---"
   ]
  },
  {
   "cell_type": "markdown",
   "id": "52fd2dbf",
   "metadata": {},
   "source": [
    "<a id='preparedrop'></a>\n",
    "<h3><b><i>\n",
    "    Drop Columns\n",
    "</i></b></h3>\n",
    "<li><a href='#prepare'>Prepare Top</a></li>"
   ]
  },
  {
   "cell_type": "code",
   "execution_count": 8,
   "id": "1eedd72b",
   "metadata": {},
   "outputs": [],
   "source": [
    "# Identify columns to drop from database\n",
    "columns_to_drop = [\n",
    "    'Region ID',\n",
    "    'Product ID',\n",
    "    'Customer ID',\n",
    "    'Category ID'\n",
    "]"
   ]
  },
  {
   "cell_type": "code",
   "execution_count": 9,
   "id": "0faf3cc4",
   "metadata": {},
   "outputs": [
    {
     "data": {
      "text/plain": [
       "(1734, 18)"
      ]
     },
     "execution_count": 9,
     "metadata": {},
     "output_type": "execute_result"
    }
   ],
   "source": [
    "# Drop the columns and re-verify database shape\n",
    "superstore = superstore.drop(columns=columns_to_drop)\n",
    "superstore.shape"
   ]
  },
  {
   "cell_type": "markdown",
   "id": "2c554774",
   "metadata": {},
   "source": [
    "---"
   ]
  },
  {
   "cell_type": "markdown",
   "id": "0ddda2d7",
   "metadata": {},
   "source": [
    "<a id='preparefixcol'></a>\n",
    "<h3><b><i>\n",
    "    Fix Columns\n",
    "</i></b></h3>\n",
    "<li><a href='#prepare'>Prepare Top</a></li>"
   ]
  },
  {
   "cell_type": "code",
   "execution_count": 10,
   "id": "e276320a",
   "metadata": {},
   "outputs": [],
   "source": [
    "# Convert Object ==> datetime\n",
    "superstore['Order Date'] = pd.to_datetime(superstore['Order Date'])\n",
    "superstore['Ship Date'] = pd.to_datetime(superstore['Ship Date'])"
   ]
  },
  {
   "cell_type": "code",
   "execution_count": 11,
   "id": "3cd62061",
   "metadata": {},
   "outputs": [
    {
     "data": {
      "text/plain": [
       "(dtype('<M8[ns]'), dtype('<M8[ns]'))"
      ]
     },
     "execution_count": 11,
     "metadata": {},
     "output_type": "execute_result"
    }
   ],
   "source": [
    "# Verify dtype changes\n",
    "superstore['Order Date'].dtype, superstore['Ship Date'].dtype"
   ]
  },
  {
   "cell_type": "code",
   "execution_count": 12,
   "id": "276d9a09",
   "metadata": {},
   "outputs": [],
   "source": [
    "# Lowercase all column names\n",
    "superstore.columns = superstore.columns.str.lower()\n",
    "\n",
    "# Replace ' ' with '_'\n",
    "superstore.columns = superstore.columns.str.replace(' ', '_')\n",
    "\n",
    "# Replace '-' with '_'\n",
    "superstore.columns = superstore.columns.str.replace('-', '_')"
   ]
  },
  {
   "cell_type": "code",
   "execution_count": 13,
   "id": "1f8f58d1",
   "metadata": {},
   "outputs": [
    {
     "data": {
      "text/plain": [
       "['order_id',\n",
       " 'order_date',\n",
       " 'ship_date',\n",
       " 'ship_mode',\n",
       " 'segment',\n",
       " 'country',\n",
       " 'city',\n",
       " 'state',\n",
       " 'postal_code',\n",
       " 'sales',\n",
       " 'quantity',\n",
       " 'discount',\n",
       " 'profit',\n",
       " 'category',\n",
       " 'sub_category',\n",
       " 'customer_name',\n",
       " 'product_name',\n",
       " 'region_name']"
      ]
     },
     "execution_count": 13,
     "metadata": {},
     "output_type": "execute_result"
    }
   ],
   "source": [
    "# Verify name changes\n",
    "superstore.columns.to_list()"
   ]
  },
  {
   "cell_type": "markdown",
   "id": "a68f6583",
   "metadata": {},
   "source": [
    "---"
   ]
  },
  {
   "cell_type": "markdown",
   "id": "1233a305",
   "metadata": {},
   "source": [
    "<a id='preparepy'></a>\n",
    "<h3><b><i>\n",
    "    '.py' File Testing\n",
    "</i></b></h3>\n",
    "<li><a href='#prepare'>Prepare Top</a></li>"
   ]
  },
  {
   "cell_type": "code",
   "execution_count": 14,
   "id": "55f77823",
   "metadata": {},
   "outputs": [
    {
     "data": {
      "text/plain": [
       "['order_id',\n",
       " 'order_date',\n",
       " 'ship_date',\n",
       " 'ship_mode',\n",
       " 'segment',\n",
       " 'country',\n",
       " 'city',\n",
       " 'state',\n",
       " 'postal_code',\n",
       " 'sales',\n",
       " 'quantity',\n",
       " 'discount',\n",
       " 'profit',\n",
       " 'category',\n",
       " 'sub_category',\n",
       " 'customer_name',\n",
       " 'product_name',\n",
       " 'region_name']"
      ]
     },
     "execution_count": 14,
     "metadata": {},
     "output_type": "execute_result"
    }
   ],
   "source": [
    "# Check that .py file works properly\n",
    "prepare_superstore = w.prepare_superstore()\n",
    "prepare_superstore.columns.to_list()"
   ]
  },
  {
   "cell_type": "markdown",
   "id": "56c707c4",
   "metadata": {},
   "source": [
    "<div style='background-color: orange'>\n",
    "<a id=\"wrangle\"></a>\n",
    "    <h1 style='text-align: center'>\n",
    "        <b><i>\n",
    "            Wrangle\n",
    "        </i></b></h1>\n",
    "<li><a href='#TableOfContents'>Table of Contents</a></li>"
   ]
  },
  {
   "cell_type": "code",
   "execution_count": 15,
   "id": "2de9bf76",
   "metadata": {},
   "outputs": [
    {
     "name": "stdout",
     "output_type": "stream",
     "text": [
      "train.shape:(970, 18)\n",
      "validate.shape:(417, 18)\n",
      "test.shape:(347, 18)\n"
     ]
    },
    {
     "data": {
      "text/plain": [
       "((970, 18), (417, 18), (347, 18))"
      ]
     },
     "execution_count": 15,
     "metadata": {},
     "output_type": "execute_result"
    }
   ],
   "source": [
    "train, validate, test = w.wrangle_superstore()\n",
    "train.shape, validate.shape, test.shape"
   ]
  },
  {
   "cell_type": "markdown",
   "id": "df3853ba",
   "metadata": {},
   "source": [
    "<div style='background-color: orange'>\n",
    "<a id=\"misc\"></a>\n",
    "    <h1 style='text-align: center'>\n",
    "        <b><i>\n",
    "            Miscellaneous\n",
    "        </i></b></h1>\n",
    "<li><a href='#TableOfContents'>Table of Contents</a></li>"
   ]
  },
  {
   "cell_type": "code",
   "execution_count": null,
   "id": "4368ea77",
   "metadata": {},
   "outputs": [],
   "source": []
  }
 ],
 "metadata": {
  "kernelspec": {
   "display_name": "Python 3 (ipykernel)",
   "language": "python",
   "name": "python3"
  },
  "language_info": {
   "codemirror_mode": {
    "name": "ipython",
    "version": 3
   },
   "file_extension": ".py",
   "mimetype": "text/x-python",
   "name": "python",
   "nbconvert_exporter": "python",
   "pygments_lexer": "ipython3",
   "version": "3.9.13"
  }
 },
 "nbformat": 4,
 "nbformat_minor": 5
}
